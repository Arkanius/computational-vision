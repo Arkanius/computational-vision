{
 "cells": [
  {
   "cell_type": "code",
   "execution_count": 1,
   "metadata": {},
   "outputs": [],
   "source": [
    "import cv2\n",
    "import numpy as np\n",
    "\n",
    "img = cv2.imread(\"imagens/cores.jpg\")  # Convert image to array\n",
    "\n",
    "lower_range = np.array([0,0,200]) # lower limit of desired color\n",
    "upper_range = np.array([10,10,255]) # upper limit of desired color\n",
    "\n",
    "mask = cv2.inRange(img, lower_range, upper_range)\n",
    "\n",
    "cv2.imshow('mascara',mask)\n",
    "\n",
    "result = cv2.bitwise_and(img, img, mask = mask) # Create an segment at the mask area\n",
    "\n",
    "cv2.imshow('imagem',img)\n",
    "cv2.imshow('mascara',mask)\n",
    "cv2.imshow('result',result)\n",
    "\n",
    "#cv2.waitKey(0)\n",
    "#cv2.destroyAllWindows()\n"
   ]
  },
  {
   "cell_type": "code",
   "execution_count": null,
   "metadata": {},
   "outputs": [],
   "source": []
  }
 ],
 "metadata": {
  "kernelspec": {
   "display_name": "Python 3",
   "language": "python",
   "name": "python3"
  },
  "language_info": {
   "codemirror_mode": {
    "name": "ipython",
    "version": 3
   },
   "file_extension": ".py",
   "mimetype": "text/x-python",
   "name": "python",
   "nbconvert_exporter": "python",
   "pygments_lexer": "ipython3",
   "version": "3.6.10"
  }
 },
 "nbformat": 4,
 "nbformat_minor": 2
}
