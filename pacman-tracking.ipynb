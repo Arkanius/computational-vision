{
 "cells": [
  {
   "cell_type": "code",
   "execution_count": 7,
   "metadata": {},
   "outputs": [
    {
     "ename": "NameError",
     "evalue": "name 'c' is not defined",
     "output_type": "error",
     "traceback": [
      "\u001b[0;31m---------------------------------------------------------------------------\u001b[0m",
      "\u001b[0;31mNameError\u001b[0m                                 Traceback (most recent call last)",
      "\u001b[0;32m<ipython-input-7-fb653a4dacdc>\u001b[0m in \u001b[0;36m<module>\u001b[0;34m()\u001b[0m\n\u001b[1;32m     40\u001b[0m         \u001b[0;31m# documentação sobre WaitKey: https://docs.opencv.org/2.4/modules/highgui/doc/user_interface.html?highlight=waitkey\u001b[0m\u001b[0;34m\u001b[0m\u001b[0;34m\u001b[0m\u001b[0;34m\u001b[0m\u001b[0m\n\u001b[1;32m     41\u001b[0m \u001b[0;34m\u001b[0m\u001b[0m\n\u001b[0;32m---> 42\u001b[0;31m         \u001b[0;32mif\u001b[0m \u001b[0mc\u001b[0m \u001b[0;34m==\u001b[0m \u001b[0mord\u001b[0m\u001b[0;34m(\u001b[0m\u001b[0;34m'q'\u001b[0m\u001b[0;34m)\u001b[0m\u001b[0;34m:\u001b[0m\u001b[0;34m\u001b[0m\u001b[0;34m\u001b[0m\u001b[0m\n\u001b[0m\u001b[1;32m     43\u001b[0m             \u001b[0;32mbreak\u001b[0m\u001b[0;34m\u001b[0m\u001b[0;34m\u001b[0m\u001b[0m\n\u001b[1;32m     44\u001b[0m \u001b[0;34m\u001b[0m\u001b[0m\n",
      "\u001b[0;31mNameError\u001b[0m: name 'c' is not defined"
     ]
    }
   ],
   "source": [
    "import cv2\n",
    "import numpy as np\n",
    "\n",
    "font = cv2.FONT_HERSHEY_SIMPLEX \n",
    "\n",
    "if __name__=='__main__':\n",
    "\n",
    "    cap = cv2.VideoCapture('imagens/pacman.webm')  # Captura Vídeo\n",
    "\n",
    "    while True:\n",
    "        ret,frame = cap.read() # Captura um frame do video\n",
    "        if not ret:  # Verifica status do vídeo\n",
    "            exit()\n",
    "\n",
    "        lower = np.array([0,220, 220], dtype=np.uint8)  # (Amarelo escuro) Determina o limite inferior [daqui para cima] \n",
    "        upper = np.array([50, 255, 255], dtype=np.uint8)   # (Amarelo Claro) Determina o limite superior [daqui para baixo]\n",
    "\n",
    "        mask = cv2.inRange(frame, lower, upper) # Cria máscara a partir dos limites LOWER-UPPER\n",
    "        # Documentação sobre InRange: https://docs.opencv.org/3.4/da/d97/tutorial_threshold_inRange.html\n",
    "\n",
    "        # cv2.imshow('mascara',mask)\n",
    "\n",
    "        contours, hierarchy, _ = cv2.findContours(mask, cv2.RETR_TREE, cv2.CHAIN_APPROX_SIMPLE) # Encontra os contornos na máscara\n",
    "        # Documentação sobre Contours: https://docs.opencv.org/3.4/d4/d73/tutorial_py_contours_begin.html\n",
    "\n",
    "        \n",
    "        for cnts in contours:\n",
    "            (x,y,w,h) = cv2.boundingRect(cnts) # Cria retângulos com os limites dos contornos\n",
    "            if w > 25 and h > 25:\n",
    "                cv2.rectangle(frame, (x, y), (x + w, y + h), (0, 255, 0), 4, cv2.LINE_AA) # imprime o retângulo no Frame\n",
    "\n",
    "                cv2.putText(frame, 'x: '+str(x)+' - y: '+str(y), (x+5,y-5), font,.8, [255,255,255], 1, cv2.LINE_AA) # Imprime o texto das coordenadas\n",
    "                imagem_cortada = frame[y:y+h,x:x+w]\n",
    "\n",
    "                cv2.imshow('imagem cortada', imagem_cortada) # Segmenta e exibe a área da detecção em uma imagem menor\n",
    "\n",
    "        cv2.imshow('frame', frame ) # Exibe o resultado\n",
    "\n",
    "        c = cv2.waitKey(15)    # Aguarda tecla ser pressionada por determinad tempo\n",
    "        # documentação sobre WaitKey: https://docs.opencv.org/2.4/modules/highgui/doc/user_interface.html?highlight=waitkey\n",
    "\n",
    "        if c == ord('q'):\n",
    "            break\n",
    "\n",
    "    cv2.destroyAllWindows()"
   ]
  },
  {
   "cell_type": "code",
   "execution_count": null,
   "metadata": {},
   "outputs": [],
   "source": []
  }
 ],
 "metadata": {
  "kernelspec": {
   "display_name": "Python 3",
   "language": "python",
   "name": "python3"
  },
  "language_info": {
   "codemirror_mode": {
    "name": "ipython",
    "version": 3
   },
   "file_extension": ".py",
   "mimetype": "text/x-python",
   "name": "python",
   "nbconvert_exporter": "python",
   "pygments_lexer": "ipython3",
   "version": "3.6.10"
  }
 },
 "nbformat": 4,
 "nbformat_minor": 2
}
